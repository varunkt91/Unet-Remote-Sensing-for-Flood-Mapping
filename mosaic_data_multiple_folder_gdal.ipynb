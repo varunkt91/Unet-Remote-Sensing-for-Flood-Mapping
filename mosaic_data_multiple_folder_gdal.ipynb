{
 "cells": [
  {
   "cell_type": "markdown",
   "metadata": {},
   "source": [
    "# To automate this process for multiple folders and to name each output mosaic after the folder"
   ]
  },
  {
   "cell_type": "code",
   "execution_count": null,
   "metadata": {},
   "outputs": [],
   "source": [
    "import os\n",
    "import glob\n",
    "from osgeo import gdal\n",
    "\n",
    "# Define the main directory containing all subfolders with .tif files\n",
    "main_dir = r'D:\\BD_flood_upscale_data\\t'\n",
    "\n",
    "# Loop through each subfolder in the main directory\n",
    "for folder in os.listdir(main_dir):\n",
    "    folder_path = os.path.join(main_dir, folder)\n",
    "    \n",
    "    # Ensure it's a directory\n",
    "    if os.path.isdir(folder_path):\n",
    "        # List all .tif files in the current folder\n",
    "        tif_files = glob.glob(os.path.join(folder_path, '*.tif'))\n",
    "        \n",
    "        if not tif_files:\n",
    "            print(f\"No .tif files found in {folder_path}. Skipping...\")\n",
    "            continue\n",
    "\n",
    "        # Create the VRT (virtual mosaic) for the current folder\n",
    "        vrt_path = os.path.join(folder_path, f\"{folder}.vrt\")\n",
    "        gdal.BuildVRT(vrt_path, tif_files)\n",
    "        \n",
    "        # Define the output mosaic .tif path (named after the folder)\n",
    "        output_tif_path = os.path.join(folder_path, f\"{folder}.tif\")\n",
    "        \n",
    "        # Translate the VRT to a compressed, tiled, BigTIFF .tif file\n",
    "        gdal.Translate(\n",
    "            output_tif_path,\n",
    "            vrt_path,\n",
    "            options=gdal.TranslateOptions(\n",
    "                format=\"GTiff\",\n",
    "                creationOptions=[\"COMPRESS=LZW\", \"TILED=YES\", \"BIGTIFF=YES\"]\n",
    "            )\n",
    "        )\n",
    "        \n",
    "        print(f\"Mosaic for folder '{folder}' saved as {output_tif_path}\")\n",
    "\n",
    "print(\"Mosaicking complete for all folders.\")\n"
   ]
  }
 ],
 "metadata": {
  "kernelspec": {
   "display_name": "myenv",
   "language": "python",
   "name": "python3"
  },
  "language_info": {
   "codemirror_mode": {
    "name": "ipython",
    "version": 3
   },
   "file_extension": ".py",
   "mimetype": "text/x-python",
   "name": "python",
   "nbconvert_exporter": "python",
   "pygments_lexer": "ipython3",
   "version": "3.9.12"
  }
 },
 "nbformat": 4,
 "nbformat_minor": 2
}
