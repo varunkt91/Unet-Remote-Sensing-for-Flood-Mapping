{
 "cells": [
  {
   "cell_type": "code",
   "execution_count": 6,
   "metadata": {},
   "outputs": [
    {
     "name": "stdout",
     "output_type": "stream",
     "text": [
      "Adjusted TIFF image saved as: C:\\Varun\\GA Work\\Unet_Work\\Keras\\archive\\experiment_with_SAR_data\\Tile1\\masks\\images_part_001_new.tif\\resized_images_part_001.tif\n"
     ]
    }
   ],
   "source": [
    "import rasterio\n",
    "from rasterio.windows import Window\n",
    "import os\n",
    "\n",
    "def adjust_image_size(image_path, output_dir):\n",
    "    # Open the TIFF file\n",
    "    with rasterio.open(image_path) as src:\n",
    "        # Get the dimensions of the image\n",
    "        width = src.width\n",
    "        height = src.height\n",
    "        \n",
    "        # Calculate the new dimensions\n",
    "        new_width = width + (64 - (width % 64)) % 64\n",
    "        new_height = height + (64 - (height % 64)) % 64\n",
    "        \n",
    "        # Calculate the window\n",
    "        window = Window(col_off=0, row_off=0, width=new_width, height=new_height)\n",
    "        \n",
    "        # Read the image data\n",
    "        image_data = src.read(window=window)\n",
    "        \n",
    "        # Create a new TIFF file path\n",
    "        base_name = os.path.basename(image_path)\n",
    "        new_file_path = os.path.join(output_dir, f\"resized_{base_name}\")\n",
    "        \n",
    "        # Create the output directory if it doesn't exist\n",
    "        os.makedirs(output_dir, exist_ok=True)\n",
    "        \n",
    "        # Create a new TIFF file\n",
    "        with rasterio.open(new_file_path, 'w', driver='GTiff',\n",
    "                           width=new_width, height=new_height,\n",
    "                           count=src.count,\n",
    "                           crs=src.crs,\n",
    "                           transform=src.transform,\n",
    "                           dtype=src.dtypes[0]) as dst:\n",
    "            # Write the image data to the new TIFF file\n",
    "            dst.write(image_data)\n",
    "\n",
    "    return new_file_path\n",
    "\n",
    "# Example usage\n",
    "image_path = r'C:\\Varun\\GA Work\\Unet_Work\\Keras\\archive\\experiment_with_SAR_data\\Tile1\\masks\\images_part_001.tif'\n",
    "output_directory = r'C:\\Varun\\GA Work\\Unet_Work\\Keras\\archive\\experiment_with_SAR_data\\Tile1\\masks\\images_part_001_new.tif'\n",
    "new_tiff_path = adjust_image_size(image_path, output_directory)\n",
    "print(f\"Adjusted TIFF image saved as: {new_tiff_path}\")\n",
    "\n",
    "\n",
    "\n"
   ]
  }
 ],
 "metadata": {
  "kernelspec": {
   "display_name": "myenv",
   "language": "python",
   "name": "python3"
  },
  "language_info": {
   "codemirror_mode": {
    "name": "ipython",
    "version": 3
   },
   "file_extension": ".py",
   "mimetype": "text/x-python",
   "name": "python",
   "nbconvert_exporter": "python",
   "pygments_lexer": "ipython3",
   "version": "3.9.12"
  }
 },
 "nbformat": 4,
 "nbformat_minor": 2
}
